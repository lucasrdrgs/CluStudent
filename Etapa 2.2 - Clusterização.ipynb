{
 "cells": [
  {
   "cell_type": "code",
   "execution_count": 1,
   "id": "ff719a48-b8a9-4531-be14-c2bcafc1bc1a",
   "metadata": {},
   "outputs": [
    {
     "name": "stderr",
     "output_type": "stream",
     "text": [
      "/home/lucas/miniconda3/envs/shap/lib/python3.7/site-packages/tqdm/auto.py:22: TqdmWarning: IProgress not found. Please update jupyter and ipywidgets. See https://ipywidgets.readthedocs.io/en/stable/user_install.html\n",
      "  from .autonotebook import tqdm as notebook_tqdm\n"
     ]
    }
   ],
   "source": [
    "import pandas as pd\n",
    "import numpy as np\n",
    "import pickle\n",
    "import matplotlib.pyplot as plt\n",
    "%matplotlib inline\n",
    "import plotly.graph_objects as go\n",
    "import shap\n",
    "from sklearn.cluster import KMeans\n",
    "from sklearn.metrics import silhouette_score, classification_report\n",
    "from sklearn.model_selection import train_test_split, GridSearchCV, cross_val_score\n",
    "from sklearn.preprocessing import MinMaxScaler, StandardScaler\n",
    "from xgboost import XGBClassifier\n",
    "from scipy.stats import mode"
   ]
  },
  {
   "cell_type": "code",
   "execution_count": 2,
   "id": "8846708e-959e-4f8d-a088-9be97c32e3a7",
   "metadata": {},
   "outputs": [],
   "source": [
    "RANDOM_STATE = 1337"
   ]
  },
  {
   "cell_type": "code",
   "execution_count": 3,
   "id": "2250f84a-9878-4a4e-acaf-ad3dcb980086",
   "metadata": {},
   "outputs": [],
   "source": [
    "df = pd.read_csv('preprocessed.csv')"
   ]
  },
  {
   "cell_type": "code",
   "execution_count": 4,
   "id": "38de0655-cc96-4ea2-a38b-43009e8912e4",
   "metadata": {},
   "outputs": [],
   "source": [
    "def normalize_features(df, use_log=True):\n",
    "    df = df.copy()\n",
    "    for col in df.columns[1:]:\n",
    "        if use_log:\n",
    "            df[col] = df[col].apply(lambda x: np.log(x + 1))\n",
    "        df[col] = MinMaxScaler().fit_transform(df[col].values.reshape(-1, 1)).flatten()\n",
    "    return df"
   ]
  },
  {
   "cell_type": "code",
   "execution_count": 5,
   "id": "3cd41664-73fc-4b6f-8134-b1a44a186e3c",
   "metadata": {},
   "outputs": [],
   "source": [
    "def get_vote(metric_function, comparator, norm, min_number, max_number, model=KMeans):\n",
    "    possible_k = list(range(min_number, max_number + 1))[::-1]\n",
    "    scores = {k: None for k in possible_k}\n",
    "    for k in possible_k:\n",
    "        print('Trying k', k, 'and fitting KMeans')\n",
    "        l = model(n_clusters=k, random_state=RANDOM_STATE).fit_predict(norm)\n",
    "        try:\n",
    "            scores[k] = metric_function(norm, l, random_state=RANDOM_STATE)\n",
    "        except:\n",
    "            scores[k] = metric_function(norm, l)\n",
    "        print('Scored.')\n",
    "    best_k = max_number\n",
    "    last_k = best_k\n",
    "    def comp(x, y, method):\n",
    "        if method == 'gt':\n",
    "            return x > y\n",
    "        elif method == 'lt':\n",
    "            return x < y\n",
    "    for k in scores:\n",
    "        if comp(scores[k], scores[best_k], comparator) and \\\n",
    "        (abs(scores[k] - scores[last_k]) >= 0.1 * scores[last_k]):\n",
    "            last_k = best_k\n",
    "            best_k = k\n",
    "    return best_k\n",
    "\n",
    "def get_cluster_number(normalized_df, min_number=2, max_number=7, model=KMeans):\n",
    "    votes = []\n",
    "    metrics = [\n",
    "        (silhouette_score, 'gt'),\n",
    "        # add more later\n",
    "    ]\n",
    "    for metric in metrics:\n",
    "        print('Getting vote for metric', metric[0].__name__)\n",
    "        votes.append(\n",
    "            get_vote(metric_function=metric[0], comparator=metric[1], norm=normalized_df, min_number=min_number, max_number=max_number, model=model)\n",
    "        )\n",
    "    return mode(votes)[0][0], {x[0].__name__: votes[i] for i, x in enumerate(metrics)}\n",
    "\n",
    "def clusterize_students(df, use_log=True, model=KMeans, min_c=2, max_c=7):\n",
    "    df = df.copy()\n",
    "    print('Normalizing features')\n",
    "    norm = normalize_features(df)\n",
    "    print('Getting cluster number')\n",
    "    n_clusters, _ = get_cluster_number(norm, model=model, min_number=min_c, max_number=max_c)\n",
    "    print(n_clusters, 'seems like the best number of clusters')\n",
    "    print('Creating model')\n",
    "    m = model(n_clusters=n_clusters, random_state=RANDOM_STATE)\n",
    "    labels = m.fit_predict(norm.iloc[:, 1:])\n",
    "    df['cluster'] = labels\n",
    "    norm['cluster'] = labels\n",
    "    return df, norm, n_clusters"
   ]
  },
  {
   "cell_type": "code",
   "execution_count": null,
   "id": "02590e25-2125-405a-b9db-e05ac55b9d40",
   "metadata": {},
   "outputs": [
    {
     "name": "stdout",
     "output_type": "stream",
     "text": [
      "Clusterizing\n",
      "Normalizing features\n",
      "Getting cluster number\n",
      "Getting vote for metric silhouette_score\n",
      "Trying k 5 and fitting KMeans\n"
     ]
    }
   ],
   "source": [
    "try:\n",
    "    df = df_.copy()\n",
    "except: pass\n",
    "df_ = df.copy()\n",
    "# etnias = [x for x in list(df.columns) if x.startswith('etnia_')]\n",
    "# rendas = [x for x in list(df.columns) if x.startswith('renda_')]\n",
    "cols = ['n_cn', 'n_ch', 'n_lc', 'n_mt', 'n_r'] # + rendas # + etnias\n",
    "medias = {x: df[x].mean() for x in cols}\n",
    "for col in cols:\n",
    "    df[col] = df[col].apply(lambda x: x / (medias[col] or x))\n",
    "# print('Getting acesso_informacao')\n",
    "# acesso_informacao = (df['computadores'] + df['celulares'] + df['internet'])\n",
    "# print('Applying')\n",
    "# acesso_informacao = acesso_informacao.apply(lambda x: 1 if x > 0 else 0)\n",
    "df = df[['id'] + cols]\n",
    "# df['acesso_informacao'] = acesso_informacao\n",
    "\n",
    "print('Clusterizing')\n",
    "subset = df#.sample(n=10000)\n",
    "clusterized, normalized, n_clusters = clusterize_students(subset, min_c=5, max_c=5)\n",
    "train, test = train_test_split(clusterized, test_size=0.25)\n",
    "ntrain, ntest = train_test_split(normalized, test_size=0.25)\n",
    "print('Done!')"
   ]
  },
  {
   "cell_type": "code",
   "execution_count": 8,
   "id": "c984473e-bb65-42d9-b938-9091048235a7",
   "metadata": {},
   "outputs": [],
   "source": [
    "# Select best parameters for the classifier\n",
    "def select_best_params(model, params, df):\n",
    "    features = df.iloc[:, 1:-1]\n",
    "    targets = df['cluster']\n",
    "    gcv = GridSearchCV(model(), params)\n",
    "    gcv.fit(features, targets)\n",
    "    return gcv.best_params_\n",
    "\n",
    "def get_models(model, params, df, n_clusters):\n",
    "    models = []\n",
    "    for i in range(n_clusters):\n",
    "        print('Model', i)\n",
    "        c_i = df.copy()\n",
    "        print('Copied DF')\n",
    "        c_i['cluster'] = c_i['cluster'].apply(\n",
    "            lambda x: 1 if int(x) == i else 0\n",
    "        )\n",
    "        print('Cluster 0-1 applied')\n",
    "        print('Searching with GridCV')\n",
    "        p = select_best_params(model, params, c_i)\n",
    "        print('Creating model with best params')\n",
    "        model_c = model(**p)\n",
    "        # todo: balancear\n",
    "        inputs = c_i.iloc[:, 1:-1].values\n",
    "        targets = c_i['cluster'].values\n",
    "        print('Fitting model.')\n",
    "        model_c.fit(inputs, targets)\n",
    "        # score = cross_val_score(model_c, inputs.copy(), targets.copy(), cv=5)\n",
    "        print('Done.\\n')\n",
    "        # models.append((model_c, score))\n",
    "        models.append((model_c,))\n",
    "    # sort by best over-all score\n",
    "    # models = sorted(models, key=lambda x: sum(x[1].tolist()), reverse=True)\n",
    "    return models"
   ]
  },
  {
   "cell_type": "code",
   "execution_count": 9,
   "id": "69f19c8c-3cd7-4e67-81c0-1f7d2b5c60e2",
   "metadata": {},
   "outputs": [],
   "source": [
    "def calc_shap_plot_params(models, df, ndf):\n",
    "    df = df.copy()\n",
    "    r = []\n",
    "    for i, model in enumerate(models):\n",
    "        explainer = shap.TreeExplainer(model)\n",
    "        shap_values = explainer.shap_values(df.iloc[:, 1:-1])\n",
    "        shap_sum = np.abs(shap_values).mean(axis=0)\n",
    "        importance_df = pd.DataFrame([df.columns.tolist()[1:-1], shap_sum.tolist()]).T\n",
    "        importance_df.columns = ['column_name', 'shap_importance']\n",
    "        importance_df = importance_df.sort_values('shap_importance', ascending=True)\n",
    "        importance_df['shap_importance'] = importance_df['shap_importance'].astype(np.float64)\n",
    "        r.append((importance_df, shap_sum, shap_values))\n",
    "    return r\n",
    "\n",
    "def plot_shap(importance_df, shap_sum, shap_values, dataset, step=5, drop_zeroes=True, show_plot=False, save_path=None, shap_val_path=None):\n",
    "    plt.clf()\n",
    "    if drop_zeroes:\n",
    "        importance_df = importance_df[importance_df['shap_importance'] > 0]\n",
    "    if shap_val_path:\n",
    "        shap.summary_plot(shap_values, dataset.iloc[:, 1:-1], show=False)\n",
    "        plt.savefig(shap_val_path)\n",
    "    n_cols = importance_df.shape[0]\n",
    "    x = np.zeros(n_cols)\n",
    "    y = range(n_cols)\n",
    "    maxx = 0.0\n",
    "    for i in range(n_cols):\n",
    "        new_max = importance_df.iloc[i, 1] / np.sum(shap_sum)\n",
    "        x[i] = new_max\n",
    "        maxx = max(maxx, new_max)\n",
    "    \n",
    "    fig = plt.figure(figsize=(20, 15))\n",
    "    barlist = plt.barh(y, x, align='center', edgecolor='black')\n",
    "    \n",
    "    plt.yticks(range(n_cols), importance_df['column_name'], fontsize=12)\n",
    "    \n",
    "    xlabels = []    \n",
    "    for i in np.arange(0, maxx * 100, step):\n",
    "        tt = str(i) + '%'\n",
    "        xlabels.append(tt)\n",
    "    for i, val in enumerate(x):\n",
    "        plt.text(val, i, ' {:.2%}'.format(val), va='center')\n",
    "    plt.xticks(np.arange(0, maxx, step / 100.0), xlabels, fontsize=15)\n",
    "    plt.xlabel('Percentage of Importance', size=15)\n",
    "    plt.title('Importance of Each Feature in Final Classification', size=12)\n",
    "    if save_path is not None:\n",
    "        plt.savefig(save_path)\n",
    "    if show_plot:\n",
    "        plt.show()\n",
    "    plt.close(fig)"
   ]
  },
  {
   "cell_type": "code",
   "execution_count": 10,
   "id": "3d9243bc-698e-42c8-a6c8-24c1b4ed5490",
   "metadata": {},
   "outputs": [],
   "source": [
    "def ovr_predict(models, user):\n",
    "    for i, model in enumerate(models):\n",
    "        pred = model.predict(np.array([user.values.flatten()])).flatten()\n",
    "        if pred == 1:\n",
    "            return i\n",
    "    return -1"
   ]
  },
  {
   "cell_type": "code",
   "execution_count": 11,
   "id": "06141c00-35bf-41d3-a0d2-12668c8691e6",
   "metadata": {},
   "outputs": [],
   "source": [
    "from tqdm import tqdm"
   ]
  },
  {
   "cell_type": "code",
   "execution_count": 12,
   "id": "8e899823-7297-40ee-b3e8-3494eb9255d8",
   "metadata": {
    "tags": []
   },
   "outputs": [],
   "source": [
    "def describe_clusters(clusterized, norm_clusterized, n_clusters, model, params):\n",
    "    # WHENEVER YOU'RE DEALING WITH MODEL FITTING OR PREDICTIONS (INCLUDING SHAP VALUES),\n",
    "    # MAKE SURE YOU USE THE APPROPRIATE DATAFRAME. SINCE XGBCLASSIFIER DOES NOT REQUIRE\n",
    "    # NORMALIZATION, IT IS FINE TO USE clusterized INSTEAD OF norm_clusterized. CHANGE\n",
    "    # ACCORDING TO YOUR NEEDS (AND MODEL USED).\n",
    "    clusterized = clusterized.copy()\n",
    "    norm_clusterized = norm_clusterized.copy()\n",
    "    print('Creating models...')\n",
    "    models_tuples = get_models(model, params, clusterized, n_clusters)\n",
    "    models = []\n",
    "    for tup in models_tuples:\n",
    "        models.append(tup[0])\n",
    "    \n",
    "    print('Predicting every single entry...')\n",
    "    for i, row in tqdm(clusterized.iterrows(), total=len(clusterized)):\n",
    "        pred = ovr_predict(models, row.iloc[1:-1])\n",
    "        clusterized.at[i, 'cluster'] = pred\n",
    "        norm_clusterized.at[i, 'cluster'] = pred\n",
    "    shap_params = calc_shap_plot_params(models, clusterized, norm_clusterized)\n",
    "    for i, (importance_df, shap_sum, shap_values) in enumerate(shap_params):\n",
    "        plt.clf()\n",
    "        importances_dict = {}\n",
    "        important_columns = importance_df['column_name'].values.tolist()\n",
    "        shap_importances = [x / np.sum(shap_sum) for x in importance_df['shap_importance'].values.tolist()]\n",
    "        # shap_importances = importance_df['shap_importance'].values.tolist() # revert if things break\n",
    "        for j in range(len(important_columns)):\n",
    "            importances_dict[important_columns[j]] = shap_importances[j]\n",
    "        plot_shap(importance_df, shap_sum, shap_values, clusterized, step=2.5, save_path='model' + str(i) + '_important_features.jpg', shap_val_path='model' + str(i) + '_shap_values.jpg')\n",
    "    return models"
   ]
  },
  {
   "cell_type": "code",
   "execution_count": 13,
   "id": "15bd9c79-fc68-4b5f-a01d-c17d2647c624",
   "metadata": {},
   "outputs": [],
   "source": [
    "from warnings import simplefilter\n",
    "simplefilter(action='ignore', category=FutureWarning)"
   ]
  },
  {
   "cell_type": "code",
   "execution_count": 14,
   "id": "b9d2389e-67c0-4047-9b6c-b86e858f3b99",
   "metadata": {},
   "outputs": [
    {
     "name": "stdout",
     "output_type": "stream",
     "text": [
      "Creating models...\n",
      "Model 0\n",
      "Copied DF\n",
      "Cluster 0-1 applied\n",
      "Searching with GridCV\n",
      "Creating model with best params\n",
      "Fitting model.\n",
      "Done.\n",
      "\n",
      "Model 1\n",
      "Copied DF\n",
      "Cluster 0-1 applied\n",
      "Searching with GridCV\n",
      "Creating model with best params\n",
      "Fitting model.\n",
      "Done.\n",
      "\n",
      "Model 2\n",
      "Copied DF\n",
      "Cluster 0-1 applied\n",
      "Searching with GridCV\n",
      "Creating model with best params\n",
      "Fitting model.\n",
      "Done.\n",
      "\n",
      "Model 3\n",
      "Copied DF\n",
      "Cluster 0-1 applied\n",
      "Searching with GridCV\n",
      "Creating model with best params\n",
      "Fitting model.\n",
      "Done.\n",
      "\n",
      "Model 4\n",
      "Copied DF\n",
      "Cluster 0-1 applied\n",
      "Searching with GridCV\n",
      "Creating model with best params\n",
      "Fitting model.\n",
      "Done.\n",
      "\n",
      "Predicting every single entry...\n"
     ]
    },
    {
     "name": "stderr",
     "output_type": "stream",
     "text": [
      "100%|████████████████████████████████████| 50000/50000 [04:21<00:00, 191.45it/s]\n",
      "ntree_limit is deprecated, use `iteration_range` or model slicing instead.\n"
     ]
    },
    {
     "data": {
      "image/png": "[encoded data removed]",
      "text/plain": [
       "<Figure size 576x252 with 2 Axes>"
      ]
     },
     "metadata": {
      "needs_background": "light"
     },
     "output_type": "display_data"
    }
   ],
   "source": [
    "models = describe_clusters(clusterized, normalized, n_clusters, model=XGBClassifier, params={\n",
    "    'n_estimators': [5],\n",
    "    'random_state': [RANDOM_STATE],\n",
    "    'seed': [RANDOM_STATE],\n",
    "    'use_label_encoder': [False],\n",
    "    'eval_metric': ['logloss']\n",
    "})"
   ]
  },
  {
   "cell_type": "code",
   "execution_count": 15,
   "id": "ebc67c34-8e01-4ea5-9bd9-df255b05b468",
   "metadata": {},
   "outputs": [],
   "source": [
    "X_test, y_test = test.iloc[:, 1:-1], test.iloc[:, -1]"
   ]
  },
  {
   "cell_type": "code",
   "execution_count": 16,
   "id": "2b8e0216-fd0c-4510-a4a3-46f8a367f537",
   "metadata": {},
   "outputs": [
    {
     "name": "stderr",
     "output_type": "stream",
     "text": [
      "100%|████████████████████████████████████| 12500/12500 [01:01<00:00, 202.78it/s]\n"
     ]
    }
   ],
   "source": [
    "preds = []\n",
    "for i, entry in tqdm(X_test.iterrows(), total=len(X_test)):\n",
    "    p = ovr_predict(models, entry)\n",
    "    preds.append(p)"
   ]
  },
  {
   "cell_type": "code",
   "execution_count": 17,
   "id": "b9d81398-da55-4a8c-9006-2407bf66e1cd",
   "metadata": {},
   "outputs": [
    {
     "data": {
      "text/plain": [
       "((12500,), (12500,))"
      ]
     },
     "execution_count": 17,
     "metadata": {},
     "output_type": "execute_result"
    }
   ],
   "source": [
    "preds = np.array(preds)\n",
    "reals = y_test.values.flatten()\n",
    "preds.shape, reals.shape"
   ]
  },
  {
   "cell_type": "code",
   "execution_count": 18,
   "id": "c9929295-d91c-41c7-9380-082af9a6f5d4",
   "metadata": {},
   "outputs": [
    {
     "name": "stdout",
     "output_type": "stream",
     "text": [
      "              precision    recall  f1-score   support\n",
      "\n",
      "          -1       0.00      0.00      0.00         0\n",
      "           0       0.93      0.96      0.95      3936\n",
      "           1       1.00      1.00      1.00       252\n",
      "           2       0.98      0.97      0.98      2398\n",
      "           3       0.97      0.91      0.94      3993\n",
      "           4       1.00      0.94      0.97      1921\n",
      "\n",
      "    accuracy                           0.95     12500\n",
      "   macro avg       0.81      0.80      0.81     12500\n",
      "weighted avg       0.96      0.95      0.96     12500\n",
      "\n"
     ]
    },
    {
     "name": "stderr",
     "output_type": "stream",
     "text": [
      "Recall and F-score are ill-defined and being set to 0.0 in labels with no true samples. Use `zero_division` parameter to control this behavior.\n",
      "Recall and F-score are ill-defined and being set to 0.0 in labels with no true samples. Use `zero_division` parameter to control this behavior.\n",
      "Recall and F-score are ill-defined and being set to 0.0 in labels with no true samples. Use `zero_division` parameter to control this behavior.\n"
     ]
    }
   ],
   "source": [
    "print(classification_report(reals, preds))"
   ]
  },
  {
   "cell_type": "code",
   "execution_count": 28,
   "id": "42d5e9f2-951e-4dc7-ba43-f8c26902aacb",
   "metadata": {},
   "outputs": [],
   "source": [
    "medias = {x: df_[x].mean() for x in ['n_r', 'n_lc', 'n_mt', 'n_cn', 'n_ch']}"
   ]
  },
  {
   "cell_type": "code",
   "execution_count": 29,
   "id": "c9336c85-eb69-409f-8048-f8b31d335866",
   "metadata": {},
   "outputs": [],
   "source": [
    "def analisa_grupo(g):\n",
    "    G = clusterized[clusterized['cluster'] == g]\n",
    "    for col in ['n_r', 'n_lc', 'n_mt', 'n_cn', 'n_ch']:\n",
    "        print(col, '{:.2f}'.format(G[col].mean() * medias[col]), 'vs media ENEM {:.2f}'.format(medias[col]))"
   ]
  },
  {
   "cell_type": "code",
   "execution_count": 30,
   "id": "08faef84-0c69-4a5b-8d9e-a7a3287f6e21",
   "metadata": {},
   "outputs": [
    {
     "name": "stdout",
     "output_type": "stream",
     "text": [
      "GRUPO 0\n",
      "n_r 812.30 vs media ENEM 597.63\n",
      "n_lc 599.98 vs media ENEM 521.76\n",
      "n_mt 716.47 vs media ENEM 529.08\n",
      "n_cn 594.55 vs media ENEM 476.75\n",
      "n_ch 618.53 vs media ENEM 509.41\n",
      "\n",
      "GRUPO 1\n",
      "n_r 560.06 vs media ENEM 597.63\n",
      "n_lc 481.35 vs media ENEM 521.76\n",
      "n_mt 430.08 vs media ENEM 529.08\n",
      "n_cn 400.94 vs media ENEM 476.75\n",
      "n_ch 454.70 vs media ENEM 509.41\n",
      "\n",
      "GRUPO 2\n",
      "n_r 622.29 vs media ENEM 597.63\n",
      "n_lc 527.89 vs media ENEM 521.76\n",
      "n_mt 459.19 vs media ENEM 529.08\n",
      "n_cn 495.93 vs media ENEM 476.75\n",
      "n_ch 514.27 vs media ENEM 509.41\n",
      "\n",
      "GRUPO 3\n",
      "n_r 354.69 vs media ENEM 597.63\n",
      "n_lc 453.91 vs media ENEM 521.76\n",
      "n_mt 446.21 vs media ENEM 529.08\n",
      "n_cn 420.46 vs media ENEM 476.75\n",
      "n_ch 431.86 vs media ENEM 509.41\n",
      "\n",
      "GRUPO 4\n",
      "n_r 2.65 vs media ENEM 597.63\n",
      "n_lc 445.04 vs media ENEM 521.76\n",
      "n_mt 445.47 vs media ENEM 529.08\n",
      "n_cn 412.67 vs media ENEM 476.75\n",
      "n_ch 424.28 vs media ENEM 509.41\n",
      "\n",
      "GRUPO 5\n",
      "n_r 677.25 vs media ENEM 597.63\n",
      "n_lc 559.56 vs media ENEM 521.76\n",
      "n_mt 602.01 vs media ENEM 529.08\n",
      "n_cn 531.19 vs media ENEM 476.75\n",
      "n_ch 557.13 vs media ENEM 509.41\n",
      "\n",
      "GRUPO 6\n",
      "n_r 594.13 vs media ENEM 597.63\n",
      "n_lc 513.10 vs media ENEM 521.76\n",
      "n_mt 556.24 vs media ENEM 529.08\n",
      "n_cn 429.94 vs media ENEM 476.75\n",
      "n_ch 490.06 vs media ENEM 509.41\n",
      "\n"
     ]
    }
   ],
   "source": [
    "for i in range(7):\n",
    "    print('GRUPO', i)\n",
    "    analisa_grupo(i)\n",
    "    print()"
   ]
  }
 ],
 "metadata": {
  "kernelspec": {
   "display_name": "Python 3 (ipykernel)",
   "language": "python",
   "name": "python3"
  },
  "language_info": {
   "codemirror_mode": {
    "name": "ipython",
    "version": 3
   },
   "file_extension": ".py",
   "mimetype": "text/x-python",
   "name": "python",
   "nbconvert_exporter": "python",
   "pygments_lexer": "ipython3",
   "version": "3.7.10"
  }
 },
 "nbformat": 4,
 "nbformat_minor": 5
}
